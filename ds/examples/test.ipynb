{
 "metadata": {
  "language_info": {
   "codemirror_mode": {
    "name": "ipython",
    "version": 3
   },
   "file_extension": ".py",
   "mimetype": "text/x-python",
   "name": "python",
   "nbconvert_exporter": "python",
   "pygments_lexer": "ipython3",
   "version": "3.9.5"
  },
  "orig_nbformat": 4,
  "kernelspec": {
   "name": "python3",
   "display_name": "Python 3.9.5 64-bit ('fastaiupdated': conda)"
  },
  "interpreter": {
   "hash": "62ba42343da40eb9a6222882a211563f9d5bf883b28c54a4a0e918b4a8be4cba"
  }
 },
 "nbformat": 4,
 "nbformat_minor": 2,
 "cells": [
  {
   "cell_type": "code",
   "execution_count": 1,
   "metadata": {},
   "outputs": [
    {
     "output_type": "error",
     "ename": "ModuleNotFoundError",
     "evalue": "No module named 'utilsa'",
     "traceback": [
      "\u001b[1;31m---------------------------------------------------------------------------\u001b[0m",
      "\u001b[1;31mModuleNotFoundError\u001b[0m                       Traceback (most recent call last)",
      "\u001b[1;32m<ipython-input-1-f24926c47c61>\u001b[0m in \u001b[0;36m<module>\u001b[1;34m\u001b[0m\n\u001b[1;32m----> 1\u001b[1;33m \u001b[1;32mimport\u001b[0m \u001b[0mutilsa\u001b[0m\u001b[1;33m\u001b[0m\u001b[1;33m\u001b[0m\u001b[0m\n\u001b[0m",
      "\u001b[1;31mModuleNotFoundError\u001b[0m: No module named 'utilsa'"
     ]
    }
   ],
   "source": [
    "import utilsa"
   ]
  },
  {
   "cell_type": "code",
   "execution_count": 5,
   "metadata": {},
   "outputs": [],
   "source": [
    "import xml.etree.ElementTree as et \n",
    "import numpy as np\n",
    "import pandas as pd\n",
    "\n",
    "titles = []\n",
    "PMIDs = []\n",
    "abstracts = []\n",
    "doi = []\n",
    "keywords = []\n",
    "\n",
    "\n",
    "xtree = et.parse(\"../dataset/hlh_PUBMED_ABSTRACTS.xml\")\n",
    "root = xtree.getroot()\n",
    "\n",
    "\n",
    "for article in root.findall(\"PubmedArticle\"):\n",
    "\n",
    "    # Grab everything including child elements in title \n",
    "    title = [\"\".join(i.itertext()) for i in article.iter(\"ArticleTitle\")]\n",
    "    abstract = [\"\".join(i.itertext()) for i in article.iter(\"AbstractText\")]\n",
    "\n",
    "    # Only retrieve first ID, since sometimes there are reference IDs included at the end\n",
    "    pmid = [i.text for i in article.iter(\"PMID\")][0]\n",
    "\n",
    "    titles.append(np.nan) if title[0] == None or (not title) else titles.append(\"\".join(title))\n",
    "    PMIDs.append(np.nan) if pmid[0] == None or (not pmid) else PMIDs.append(\"\".join(pmid))  \n",
    "    abstracts.append(np.nan) if not abstract or abstract[0] == None else abstracts.append(\"\".join(abstract))\n",
    "\n",
    "    # doi.append(\"\".join([i.text for i in article.iter(\"ELocationID\")]))\n",
    "    # keywords.append(\"\".join([i.text for i in article.iter(\"Keyword\")]))\n",
    "\n",
    "output = pd.DataFrame(\n",
    "    {\n",
    "        \"title\"     : titles,\n",
    "        \"PMID\"      : PMIDs,\n",
    "        \"abstracts\" : abstracts,\n",
    "        # \"doi\"       : doi,\n",
    "        # \"keywords\"  : keywords\n",
    "    }\n",
    ")\n",
    "    "
   ]
  },
  {
   "cell_type": "code",
   "execution_count": 6,
   "metadata": {},
   "outputs": [
    {
     "output_type": "execute_result",
     "data": {
      "text/plain": [
       "                                                  title      PMID  \\\n",
       "0     SARS-CoV-2-Induced Multisystem Inflammatory Sy...  34179694   \n",
       "1     Pancytopenia Resulting From Low-Dose Methotrex...  34178513   \n",
       "2     Disseminated Tuberculosis Associated Hemophago...  34177917   \n",
       "3     Multifocal Pyoderma Gangrenosum with an Underl...  34176093   \n",
       "4     Prevalence of Epstein-Barr Viral DNA among chi...  34174213   \n",
       "...                                                 ...       ...   \n",
       "3928  [Effect of clomiphene on the plasmatic concent...   5535620   \n",
       "3929  A study of the cross-reaction between human ch...   5528405   \n",
       "3930  Production rates and metabolic clearance rates...   5764014   \n",
       "3931  Metabolic clearance and production rates of hu...  16695945   \n",
       "3932                        Harrie Leslie Hugo Schütze.  14784920   \n",
       "\n",
       "                                              abstracts  \n",
       "0     We describe a case of a previous healthy 20-ye...  \n",
       "1     Rheumatoid arthritis (RA) is a common autoimmu...  \n",
       "2     Tuberculosis (TB) is a leading cause of morbid...  \n",
       "3     Pyoderma gangrenosum (PG) is an uncommon, seri...  \n",
       "4     This study aimed to describe the prevalence of...  \n",
       "...                                                 ...  \n",
       "3928                                                NaN  \n",
       "3929                                                NaN  \n",
       "3930  The production rates (PR) and the metabolic cl...  \n",
       "3931  Metabolic clearance rates and production rates...  \n",
       "3932                                                NaN  \n",
       "\n",
       "[3933 rows x 3 columns]"
      ],
      "text/html": "<div>\n<style scoped>\n    .dataframe tbody tr th:only-of-type {\n        vertical-align: middle;\n    }\n\n    .dataframe tbody tr th {\n        vertical-align: top;\n    }\n\n    .dataframe thead th {\n        text-align: right;\n    }\n</style>\n<table border=\"1\" class=\"dataframe\">\n  <thead>\n    <tr style=\"text-align: right;\">\n      <th></th>\n      <th>title</th>\n      <th>PMID</th>\n      <th>abstracts</th>\n    </tr>\n  </thead>\n  <tbody>\n    <tr>\n      <th>0</th>\n      <td>SARS-CoV-2-Induced Multisystem Inflammatory Sy...</td>\n      <td>34179694</td>\n      <td>We describe a case of a previous healthy 20-ye...</td>\n    </tr>\n    <tr>\n      <th>1</th>\n      <td>Pancytopenia Resulting From Low-Dose Methotrex...</td>\n      <td>34178513</td>\n      <td>Rheumatoid arthritis (RA) is a common autoimmu...</td>\n    </tr>\n    <tr>\n      <th>2</th>\n      <td>Disseminated Tuberculosis Associated Hemophago...</td>\n      <td>34177917</td>\n      <td>Tuberculosis (TB) is a leading cause of morbid...</td>\n    </tr>\n    <tr>\n      <th>3</th>\n      <td>Multifocal Pyoderma Gangrenosum with an Underl...</td>\n      <td>34176093</td>\n      <td>Pyoderma gangrenosum (PG) is an uncommon, seri...</td>\n    </tr>\n    <tr>\n      <th>4</th>\n      <td>Prevalence of Epstein-Barr Viral DNA among chi...</td>\n      <td>34174213</td>\n      <td>This study aimed to describe the prevalence of...</td>\n    </tr>\n    <tr>\n      <th>...</th>\n      <td>...</td>\n      <td>...</td>\n      <td>...</td>\n    </tr>\n    <tr>\n      <th>3928</th>\n      <td>[Effect of clomiphene on the plasmatic concent...</td>\n      <td>5535620</td>\n      <td>NaN</td>\n    </tr>\n    <tr>\n      <th>3929</th>\n      <td>A study of the cross-reaction between human ch...</td>\n      <td>5528405</td>\n      <td>NaN</td>\n    </tr>\n    <tr>\n      <th>3930</th>\n      <td>Production rates and metabolic clearance rates...</td>\n      <td>5764014</td>\n      <td>The production rates (PR) and the metabolic cl...</td>\n    </tr>\n    <tr>\n      <th>3931</th>\n      <td>Metabolic clearance and production rates of hu...</td>\n      <td>16695945</td>\n      <td>Metabolic clearance rates and production rates...</td>\n    </tr>\n    <tr>\n      <th>3932</th>\n      <td>Harrie Leslie Hugo Schütze.</td>\n      <td>14784920</td>\n      <td>NaN</td>\n    </tr>\n  </tbody>\n</table>\n<p>3933 rows × 3 columns</p>\n</div>"
     },
     "metadata": {},
     "execution_count": 6
    }
   ],
   "source": [
    "output"
   ]
  },
  {
   "cell_type": "code",
   "execution_count": 7,
   "metadata": {},
   "outputs": [
    {
     "output_type": "execute_result",
     "data": {
      "text/plain": [
       "False    3819\n",
       "True      114\n",
       "Name: abstracts, dtype: int64"
      ]
     },
     "metadata": {},
     "execution_count": 7
    }
   ],
   "source": [
    "output[\"abstracts\"].isna().value_counts()"
   ]
  },
  {
   "cell_type": "code",
   "execution_count": 9,
   "metadata": {},
   "outputs": [],
   "source": [
    "output.to_csv(\"../dataset/PUBMED_ABSTRACTS_TERM=hlh.csv\")"
   ]
  },
  {
   "cell_type": "code",
   "execution_count": 59,
   "metadata": {},
   "outputs": [
    {
     "output_type": "error",
     "ename": "KeyError",
     "evalue": "'Lasbel'",
     "traceback": [
      "\u001b[1;31m---------------------------------------------------------------------------\u001b[0m",
      "\u001b[1;31mKeyError\u001b[0m                                  Traceback (most recent call last)",
      "\u001b[1;32m<ipython-input-59-7fd0b1431c04>\u001b[0m in \u001b[0;36m<module>\u001b[1;34m\u001b[0m\n\u001b[0;32m      3\u001b[0m \u001b[1;33m\u001b[0m\u001b[0m\n\u001b[0;32m      4\u001b[0m \u001b[1;32mfor\u001b[0m \u001b[0marticle\u001b[0m \u001b[1;32min\u001b[0m \u001b[0mroot\u001b[0m\u001b[1;33m.\u001b[0m\u001b[0mfindall\u001b[0m\u001b[1;33m(\u001b[0m\u001b[1;34m\"PubmedArticle\"\u001b[0m\u001b[1;33m)\u001b[0m\u001b[1;33m:\u001b[0m\u001b[1;33m\u001b[0m\u001b[1;33m\u001b[0m\u001b[0m\n\u001b[1;32m----> 5\u001b[1;33m     \u001b[0mt\u001b[0m \u001b[1;33m=\u001b[0m \u001b[1;33m[\u001b[0m\u001b[0mi\u001b[0m\u001b[1;33m.\u001b[0m\u001b[0mattrib\u001b[0m\u001b[1;33m[\u001b[0m\u001b[1;34m\"Lasbel\"\u001b[0m\u001b[1;33m]\u001b[0m \u001b[1;33m+\u001b[0m \u001b[1;34m\"\"\u001b[0m\u001b[1;33m.\u001b[0m\u001b[0mjoin\u001b[0m\u001b[1;33m(\u001b[0m\u001b[0mi\u001b[0m\u001b[1;33m.\u001b[0m\u001b[0mitertext\u001b[0m\u001b[1;33m(\u001b[0m\u001b[1;33m)\u001b[0m\u001b[1;33m)\u001b[0m \u001b[1;32mfor\u001b[0m \u001b[0mi\u001b[0m \u001b[1;32min\u001b[0m \u001b[0marticle\u001b[0m\u001b[1;33m.\u001b[0m\u001b[0miter\u001b[0m\u001b[1;33m(\u001b[0m\u001b[1;34m\"AbstractText\"\u001b[0m\u001b[1;33m)\u001b[0m\u001b[1;33m]\u001b[0m\u001b[1;33m\u001b[0m\u001b[1;33m\u001b[0m\u001b[0m\n\u001b[0m\u001b[0;32m      6\u001b[0m     \u001b[0mprint\u001b[0m\u001b[1;33m(\u001b[0m\u001b[0mt\u001b[0m\u001b[1;33m)\u001b[0m\u001b[1;33m\u001b[0m\u001b[1;33m\u001b[0m\u001b[0m\n",
      "\u001b[1;32m<ipython-input-59-7fd0b1431c04>\u001b[0m in \u001b[0;36m<listcomp>\u001b[1;34m(.0)\u001b[0m\n\u001b[0;32m      3\u001b[0m \u001b[1;33m\u001b[0m\u001b[0m\n\u001b[0;32m      4\u001b[0m \u001b[1;32mfor\u001b[0m \u001b[0marticle\u001b[0m \u001b[1;32min\u001b[0m \u001b[0mroot\u001b[0m\u001b[1;33m.\u001b[0m\u001b[0mfindall\u001b[0m\u001b[1;33m(\u001b[0m\u001b[1;34m\"PubmedArticle\"\u001b[0m\u001b[1;33m)\u001b[0m\u001b[1;33m:\u001b[0m\u001b[1;33m\u001b[0m\u001b[1;33m\u001b[0m\u001b[0m\n\u001b[1;32m----> 5\u001b[1;33m     \u001b[0mt\u001b[0m \u001b[1;33m=\u001b[0m \u001b[1;33m[\u001b[0m\u001b[0mi\u001b[0m\u001b[1;33m.\u001b[0m\u001b[0mattrib\u001b[0m\u001b[1;33m[\u001b[0m\u001b[1;34m\"Lasbel\"\u001b[0m\u001b[1;33m]\u001b[0m \u001b[1;33m+\u001b[0m \u001b[1;34m\"\"\u001b[0m\u001b[1;33m.\u001b[0m\u001b[0mjoin\u001b[0m\u001b[1;33m(\u001b[0m\u001b[0mi\u001b[0m\u001b[1;33m.\u001b[0m\u001b[0mitertext\u001b[0m\u001b[1;33m(\u001b[0m\u001b[1;33m)\u001b[0m\u001b[1;33m)\u001b[0m \u001b[1;32mfor\u001b[0m \u001b[0mi\u001b[0m \u001b[1;32min\u001b[0m \u001b[0marticle\u001b[0m\u001b[1;33m.\u001b[0m\u001b[0miter\u001b[0m\u001b[1;33m(\u001b[0m\u001b[1;34m\"AbstractText\"\u001b[0m\u001b[1;33m)\u001b[0m\u001b[1;33m]\u001b[0m\u001b[1;33m\u001b[0m\u001b[1;33m\u001b[0m\u001b[0m\n\u001b[0m\u001b[0;32m      6\u001b[0m     \u001b[0mprint\u001b[0m\u001b[1;33m(\u001b[0m\u001b[0mt\u001b[0m\u001b[1;33m)\u001b[0m\u001b[1;33m\u001b[0m\u001b[1;33m\u001b[0m\u001b[0m\n",
      "\u001b[1;31mKeyError\u001b[0m: 'Lasbel'"
     ]
    }
   ],
   "source": [
    "xtree = et.parse(\"example.xml\")\n",
    "root = xtree.getroot()\n",
    "\n",
    "for article in root.findall(\"PubmedArticle\"):\n",
    "    t = [i.attrib[\"Label\"] + \"\".join(i.itertext()) for i in article.iter(\"AbstractText\")]\n",
    "    print(t)"
   ]
  },
  {
   "cell_type": "code",
   "execution_count": null,
   "metadata": {},
   "outputs": [],
   "source": []
  }
 ]
}