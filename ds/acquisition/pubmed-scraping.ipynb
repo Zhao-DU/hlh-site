{
 "metadata": {
  "language_info": {
   "codemirror_mode": {
    "name": "ipython",
    "version": 3
   },
   "file_extension": ".py",
   "mimetype": "text/x-python",
   "name": "python",
   "nbconvert_exporter": "python",
   "pygments_lexer": "ipython3",
   "version": "3.9.1"
  },
  "orig_nbformat": 4,
  "kernelspec": {
   "name": "python3",
   "display_name": "Python 3.9.1 64-bit ('scraping': conda)"
  },
  "interpreter": {
   "hash": "023945887db50823a15d6823b72ba7e62e7875681053504bde2f0d4cdf2e3db4"
  }
 },
 "nbformat": 4,
 "nbformat_minor": 2,
 "cells": [
  {
   "cell_type": "code",
   "execution_count": 4,
   "metadata": {},
   "outputs": [],
   "source": [
    "import os\n",
    "import urllib3\n",
    "import numpy as np \n",
    "import pandas as pd\n"
   ]
  },
  {
   "source": [
    "# Goal \n",
    "\n",
    "## acquire all pubmed abstracts regarding the query term \"hlh\" \n",
    "\n",
    "1- Using an API call to e-search \"https://eutils.ncbi.nlm.nih.gov/entrez/eutils/esearch.fcgi?term=hlh&RetMax=5000\" to acquire the IDs of relevant articles"
   ],
   "cell_type": "markdown",
   "metadata": {}
  },
  {
   "cell_type": "code",
   "execution_count": 1,
   "metadata": {},
   "outputs": [
    {
     "output_type": "execute_result",
     "data": {
      "text/plain": [
       "'d:\\\\Zhao\\\\Coding\\\\hlh-shawn\\\\ds'"
      ]
     },
     "metadata": {},
     "execution_count": 1
    }
   ],
   "source": [
    "os.getcwd()"
   ]
  },
  {
   "cell_type": "code",
   "execution_count": 9,
   "metadata": {},
   "outputs": [],
   "source": [
    "# Use eSearch API to acquire IDs for texts related to \"hlh\" \n",
    "\n",
    "\n",
    "eSearchURL = \"https://eutils.ncbi.nlm.nih.gov/entrez/eutils/esearch.fcgi?term=hlh&RetMax=5000\"\n",
    "\n",
    "http = urllib3.PoolManager()\n",
    "eSearchRes = http.request('GET', eSearchURL)\n",
    "\n",
    "with open(\"./dataset/hlh_PUBMED_QUERY.xml\", 'ab') as f:\n",
    "    f.write(eSearchRes.data)"
   ]
  },
  {
   "cell_type": "code",
   "execution_count": 14,
   "metadata": {},
   "outputs": [],
   "source": [
    "# Read from stored XML and parse IDs\n",
    "\n",
    "import xml.etree.ElementTree as et \n",
    "\n",
    "xtree = et.parse(\"./dataset/hlh_PUBMED_QUERY.xml\")\n",
    "IdNode = xtree.getroot().find(\"IdList\")\n",
    "\n",
    "ID_LIST = [i.text for i in IdNode.findall(\"Id\")]"
   ]
  },
  {
   "cell_type": "code",
   "execution_count": 16,
   "metadata": {},
   "outputs": [],
   "source": [
    "# Construct form-data for HTTP POST request to EFetch \n",
    "\n",
    "EFETCH_POST_BODY = {\n",
    "    \"db\": \"pubmed\",\n",
    "    \"retmode\": \"xml\",\n",
    "    \"id\": \",\".join(ID_LIST)\n",
    "}"
   ]
  },
  {
   "cell_type": "code",
   "execution_count": 17,
   "metadata": {},
   "outputs": [],
   "source": [
    "# Retrieve XML from EFetch API\n",
    "eFetchURL = \"https://eutils.ncbi.nlm.nih.gov/entrez/eutils/efetch.fcgi\"\n",
    "\n",
    "http = urllib3.PoolManager()\n",
    "\n",
    "eFetchRes = http.request(\n",
    "    \"POST\",\n",
    "    eFetchURL,\n",
    "    fields = EFETCH_POST_BODY,\n",
    ")\n",
    "\n",
    "with open(\"./dataset/hlh_PUBMED_ABSTRACTS.xml\", 'ab') as f:\n",
    "    f.write(eFetchRes.data)"
   ]
  },
  {
   "cell_type": "code",
   "execution_count": 20,
   "metadata": {},
   "outputs": [
    {
     "output_type": "execute_result",
     "data": {
      "text/plain": [
       "<Element 'PubmedArticleSet' at 0x000001D8DC957270>"
      ]
     },
     "metadata": {},
     "execution_count": 20
    }
   ],
   "source": [
    "xtree = et.parse(\"./dataset/hlh_PUBMED_ABSTRACTS.xml\")\n",
    "articleNode = xtree.getroot()\n",
    "articleNode"
   ]
  },
  {
   "cell_type": "code",
   "execution_count": null,
   "metadata": {},
   "outputs": [],
   "source": []
  }
 ]
}